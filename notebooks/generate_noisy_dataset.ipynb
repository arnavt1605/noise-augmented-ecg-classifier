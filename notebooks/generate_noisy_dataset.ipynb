{
  "nbformat": 4,
  "nbformat_minor": 0,
  "metadata": {
    "colab": {
      "provenance": []
    },
    "kernelspec": {
      "name": "python3",
      "display_name": "Python 3"
    },
    "language_info": {
      "name": "python"
    }
  },
  "cells": [
    {
      "cell_type": "code",
      "source": [
        "from google.colab import drive\n",
        "drive.mount('/content/drive')"
      ],
      "metadata": {
        "colab": {
          "base_uri": "https://localhost:8080/"
        },
        "id": "CgBWvwWfg-Fu",
        "outputId": "ec1a4c37-308c-4bc5-ade0-5453b99f1f9f"
      },
      "execution_count": null,
      "outputs": [
        {
          "output_type": "stream",
          "name": "stdout",
          "text": [
            "Mounted at /content/drive\n"
          ]
        }
      ]
    },
    {
      "cell_type": "code",
      "execution_count": null,
      "metadata": {
        "colab": {
          "base_uri": "https://localhost:8080/"
        },
        "id": "69ZsZOaggyaa",
        "outputId": "64fd228f-9a1f-48b2-dc65-6106bcaa4ee1"
      },
      "outputs": [
        {
          "output_type": "stream",
          "name": "stdout",
          "text": [
            "✅ Clean dataset loaded: (100033, 217)\n",
            "Label mapping: {'A': np.int64(0), 'L': np.int64(1), 'N': np.int64(2), 'R': np.int64(3), 'V': np.int64(4)}\n",
            "Adding noise at 0 dB...\n",
            "✅ Saved /content/drive/MyDrive/ECG_Project/preprocessed/ecg_noisy_0db.csv → 100033 rows\n",
            "Adding noise at 3 dB...\n",
            "✅ Saved /content/drive/MyDrive/ECG_Project/preprocessed/ecg_noisy_3db.csv → 100033 rows\n",
            "Adding noise at 6 dB...\n",
            "✅ Saved /content/drive/MyDrive/ECG_Project/preprocessed/ecg_noisy_6db.csv → 100033 rows\n",
            "Adding noise at 9 dB...\n",
            "✅ Saved /content/drive/MyDrive/ECG_Project/preprocessed/ecg_noisy_9db.csv → 100033 rows\n",
            "Adding noise at 12 dB...\n",
            "✅ Saved /content/drive/MyDrive/ECG_Project/preprocessed/ecg_noisy_12db.csv → 100033 rows\n",
            "Adding noise at 15 dB...\n",
            "✅ Saved /content/drive/MyDrive/ECG_Project/preprocessed/ecg_noisy_15db.csv → 100033 rows\n",
            "Adding noise at 18 dB...\n",
            "✅ Saved /content/drive/MyDrive/ECG_Project/preprocessed/ecg_noisy_18db.csv → 100033 rows\n",
            "Adding noise at 20 dB...\n",
            "✅ Saved /content/drive/MyDrive/ECG_Project/preprocessed/ecg_noisy_20db.csv → 100033 rows\n"
          ]
        }
      ],
      "source": [
        "import numpy as np\n",
        "import pandas as pd\n",
        "import os\n",
        "from sklearn.preprocessing import LabelEncoder\n",
        "\n",
        "def add_awgn_noise(signal, snr_db):\n",
        "    signal_power = np.mean(signal ** 2)\n",
        "    noise_power = signal_power / (10 ** (snr_db / 10))\n",
        "    noise = np.random.normal(0, np.sqrt(noise_power), signal.shape)\n",
        "    return signal + noise\n",
        "\n",
        "base_path = \"/content/drive/MyDrive/ECG_Project/preprocessed\"\n",
        "clean_path = os.path.join(base_path, \"ecg_clean.csv\")\n",
        "\n",
        "df = pd.read_csv(clean_path)\n",
        "print(\"✅ Clean dataset loaded:\", df.shape)\n",
        "\n",
        "X = df.drop(columns=['label']).values\n",
        "y = df['label'].values\n",
        "\n",
        "le = LabelEncoder()\n",
        "y_encoded = le.fit_transform(y)\n",
        "print(f\"Label mapping: {dict(zip(le.classes_, le.transform(le.classes_)))}\")\n",
        "\n",
        "for snr in [0, 3, 6, 9, 12, 15, 18, 20]:\n",
        "    print(f\"Adding noise at {snr} dB...\")\n",
        "    noisy_X = np.stack([add_awgn_noise(x, snr) for x in X])\n",
        "    noisy_df = pd.DataFrame(noisy_X, columns=[str(i) for i in range(X.shape[1])])\n",
        "    noisy_df['label'] = y_encoded\n",
        "    out_path = os.path.join(base_path, f\"ecg_noisy_{snr}db.csv\")\n",
        "    noisy_df.to_csv(out_path, index=False)\n",
        "    print(f\"✅ Saved {out_path} → {len(noisy_df)} rows\")\n"
      ]
    },
    {
      "cell_type": "code",
      "source": [
        "for snr in [0, 3, 6, 9, 12, 15, 18, 20]:\n",
        "    df = pd.read_csv(f\"/content/drive/MyDrive/ECG_Project/preprocessed/ecg_noisy_{snr}db.csv\")\n",
        "    print(f\"SNR {snr} → {len(df)} rows, {len(df.columns)} columns\")"
      ],
      "metadata": {
        "colab": {
          "base_uri": "https://localhost:8080/"
        },
        "id": "zuNCbRzVg6yp",
        "outputId": "a624bbb7-613d-4469-ff82-217d250c3d12"
      },
      "execution_count": null,
      "outputs": [
        {
          "output_type": "stream",
          "name": "stdout",
          "text": [
            "SNR 0 → 100033 rows, 217 columns\n",
            "SNR 3 → 100033 rows, 217 columns\n",
            "SNR 6 → 100033 rows, 217 columns\n",
            "SNR 9 → 100033 rows, 217 columns\n",
            "SNR 12 → 100033 rows, 217 columns\n",
            "SNR 15 → 100033 rows, 217 columns\n",
            "SNR 18 → 100033 rows, 217 columns\n",
            "SNR 20 → 100033 rows, 217 columns\n"
          ]
        }
      ]
    }
  ]
}